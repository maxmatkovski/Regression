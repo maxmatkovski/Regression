{
 "cells": [
  {
   "cell_type": "code",
   "execution_count": 93,
   "id": "d61b2b04",
   "metadata": {},
   "outputs": [
    {
     "data": {
      "text/html": [
       "<div>\n",
       "<style scoped>\n",
       "    .dataframe tbody tr th:only-of-type {\n",
       "        vertical-align: middle;\n",
       "    }\n",
       "\n",
       "    .dataframe tbody tr th {\n",
       "        vertical-align: top;\n",
       "    }\n",
       "\n",
       "    .dataframe thead th {\n",
       "        text-align: right;\n",
       "    }\n",
       "</style>\n",
       "<table border=\"1\" class=\"dataframe\">\n",
       "  <thead>\n",
       "    <tr style=\"text-align: right;\">\n",
       "      <th></th>\n",
       "      <th>Brand</th>\n",
       "      <th>Brewery</th>\n",
       "      <th>Calories</th>\n",
       "      <th>Carbohydrates</th>\n",
       "    </tr>\n",
       "  </thead>\n",
       "  <tbody>\n",
       "    <tr>\n",
       "      <th>0</th>\n",
       "      <td>American Amber Lager</td>\n",
       "      <td>Straub Brewery</td>\n",
       "      <td>136</td>\n",
       "      <td>10.5</td>\n",
       "    </tr>\n",
       "    <tr>\n",
       "      <th>1</th>\n",
       "      <td>American Lager</td>\n",
       "      <td>Straub Brewery</td>\n",
       "      <td>132</td>\n",
       "      <td>10.5</td>\n",
       "    </tr>\n",
       "    <tr>\n",
       "      <th>2</th>\n",
       "      <td>American Light</td>\n",
       "      <td>Straub Brewery</td>\n",
       "      <td>96</td>\n",
       "      <td>7.6</td>\n",
       "    </tr>\n",
       "    <tr>\n",
       "      <th>3</th>\n",
       "      <td>Anchor Steam</td>\n",
       "      <td>Anchor</td>\n",
       "      <td>153</td>\n",
       "      <td>16.0</td>\n",
       "    </tr>\n",
       "    <tr>\n",
       "      <th>4</th>\n",
       "      <td>Anheuser Busch Natural Light</td>\n",
       "      <td>Anheuser Busch</td>\n",
       "      <td>95</td>\n",
       "      <td>3.2</td>\n",
       "    </tr>\n",
       "    <tr>\n",
       "      <th>...</th>\n",
       "      <td>...</td>\n",
       "      <td>...</td>\n",
       "      <td>...</td>\n",
       "      <td>...</td>\n",
       "    </tr>\n",
       "    <tr>\n",
       "      <th>148</th>\n",
       "      <td>Yuengling Ale</td>\n",
       "      <td>D.G. Yuengilng</td>\n",
       "      <td>145</td>\n",
       "      <td>10.0</td>\n",
       "    </tr>\n",
       "    <tr>\n",
       "      <th>149</th>\n",
       "      <td>Yuengling Porter</td>\n",
       "      <td>D.G. Yuengilng</td>\n",
       "      <td>150</td>\n",
       "      <td>14.0</td>\n",
       "    </tr>\n",
       "    <tr>\n",
       "      <th>150</th>\n",
       "      <td>Yuengling Premium Beer</td>\n",
       "      <td>D.G. Yuengling</td>\n",
       "      <td>135</td>\n",
       "      <td>12.0</td>\n",
       "    </tr>\n",
       "    <tr>\n",
       "      <th>151</th>\n",
       "      <td>Yuengling Light</td>\n",
       "      <td>D.G. Yuengling</td>\n",
       "      <td>98</td>\n",
       "      <td>6.6</td>\n",
       "    </tr>\n",
       "    <tr>\n",
       "      <th>152</th>\n",
       "      <td>Yuengling Lager</td>\n",
       "      <td>D.G. Yuengling</td>\n",
       "      <td>135</td>\n",
       "      <td>12.0</td>\n",
       "    </tr>\n",
       "  </tbody>\n",
       "</table>\n",
       "<p>153 rows × 4 columns</p>\n",
       "</div>"
      ],
      "text/plain": [
       "                             Brand          Brewery  Calories  Carbohydrates\n",
       "0             American Amber Lager  Straub Brewery        136           10.5\n",
       "1                   American Lager   Straub Brewery       132           10.5\n",
       "2                   American Light   Straub Brewery        96            7.6\n",
       "3                     Anchor Steam          Anchor        153           16.0\n",
       "4    Anheuser Busch Natural Light    Anheuser Busch        95            3.2\n",
       "..                             ...              ...       ...            ...\n",
       "148                  Yuengling Ale   D.G. Yuengilng       145           10.0\n",
       "149               Yuengling Porter   D.G. Yuengilng       150           14.0\n",
       "150         Yuengling Premium Beer   D.G. Yuengling       135           12.0\n",
       "151                Yuengling Light   D.G. Yuengling        98            6.6\n",
       "152                Yuengling Lager   D.G. Yuengling       135           12.0\n",
       "\n",
       "[153 rows x 4 columns]"
      ]
     },
     "execution_count": 93,
     "metadata": {},
     "output_type": "execute_result"
    }
   ],
   "source": [
    "# read in file\n",
    "\n",
    "import pandas as pd\n",
    "df = pd.read_csv('Data/beer.csv')\n",
    "df"
   ]
  },
  {
   "cell_type": "code",
   "execution_count": 94,
   "id": "631c2e88",
   "metadata": {},
   "outputs": [
    {
     "data": {
      "text/html": [
       "<div>\n",
       "<style scoped>\n",
       "    .dataframe tbody tr th:only-of-type {\n",
       "        vertical-align: middle;\n",
       "    }\n",
       "\n",
       "    .dataframe tbody tr th {\n",
       "        vertical-align: top;\n",
       "    }\n",
       "\n",
       "    .dataframe thead th {\n",
       "        text-align: right;\n",
       "    }\n",
       "</style>\n",
       "<table border=\"1\" class=\"dataframe\">\n",
       "  <thead>\n",
       "    <tr style=\"text-align: right;\">\n",
       "      <th></th>\n",
       "      <th>Calories</th>\n",
       "      <th>Carbohydrates</th>\n",
       "    </tr>\n",
       "  </thead>\n",
       "  <tbody>\n",
       "    <tr>\n",
       "      <th>count</th>\n",
       "      <td>153.000000</td>\n",
       "      <td>153.000000</td>\n",
       "    </tr>\n",
       "    <tr>\n",
       "      <th>mean</th>\n",
       "      <td>154.078431</td>\n",
       "      <td>11.960131</td>\n",
       "    </tr>\n",
       "    <tr>\n",
       "      <th>std</th>\n",
       "      <td>44.492538</td>\n",
       "      <td>4.905587</td>\n",
       "    </tr>\n",
       "    <tr>\n",
       "      <th>min</th>\n",
       "      <td>55.000000</td>\n",
       "      <td>1.900000</td>\n",
       "    </tr>\n",
       "    <tr>\n",
       "      <th>25%</th>\n",
       "      <td>129.000000</td>\n",
       "      <td>8.600000</td>\n",
       "    </tr>\n",
       "    <tr>\n",
       "      <th>50%</th>\n",
       "      <td>150.000000</td>\n",
       "      <td>12.000000</td>\n",
       "    </tr>\n",
       "    <tr>\n",
       "      <th>75%</th>\n",
       "      <td>166.000000</td>\n",
       "      <td>14.300000</td>\n",
       "    </tr>\n",
       "    <tr>\n",
       "      <th>max</th>\n",
       "      <td>330.000000</td>\n",
       "      <td>32.100000</td>\n",
       "    </tr>\n",
       "  </tbody>\n",
       "</table>\n",
       "</div>"
      ],
      "text/plain": [
       "         Calories  Carbohydrates\n",
       "count  153.000000     153.000000\n",
       "mean   154.078431      11.960131\n",
       "std     44.492538       4.905587\n",
       "min     55.000000       1.900000\n",
       "25%    129.000000       8.600000\n",
       "50%    150.000000      12.000000\n",
       "75%    166.000000      14.300000\n",
       "max    330.000000      32.100000"
      ]
     },
     "execution_count": 94,
     "metadata": {},
     "output_type": "execute_result"
    }
   ],
   "source": [
    "df.describe()"
   ]
  },
  {
   "cell_type": "code",
   "execution_count": 14,
   "id": "7a2f5833",
   "metadata": {},
   "outputs": [
    {
     "data": {
      "text/plain": [
       "Text(0, 0.5, 'Calories')"
      ]
     },
     "execution_count": 14,
     "metadata": {},
     "output_type": "execute_result"
    },
    {
     "data": {
      "image/png": "[encoded data removed]",
      "text/plain": [
       "<Figure size 640x480 with 1 Axes>"
      ]
     },
     "metadata": {},
     "output_type": "display_data"
    }
   ],
   "source": [
    "# Get an idea what data looks like\n",
    "import matplotlib.pyplot as plt\n",
    "x = df['Carbohydrates']\n",
    "y = df['Calories']\n",
    "plt.scatter(x,y)\n",
    "plt.xlabel('Carbohydrates')\n",
    "plt.ylabel('Calories')"
   ]
  },
  {
   "cell_type": "code",
   "execution_count": 15,
   "id": "301979b6",
   "metadata": {},
   "outputs": [
    {
     "data": {
      "text/plain": [
       "(0.7979026501845783, 5.162380076478407e-35)"
      ]
     },
     "execution_count": 15,
     "metadata": {},
     "output_type": "execute_result"
    }
   ],
   "source": [
    "# Correlation test\n",
    "import scipy.stats\n",
    "scipy.stats.pearsonr(x,y)"
   ]
  },
  {
   "cell_type": "code",
   "execution_count": 16,
   "id": "db7a5a1e",
   "metadata": {},
   "outputs": [
    {
     "data": {
      "text/plain": [
       "SpearmanrResult(correlation=0.8202031342300837, pvalue=1.8687017951903627e-38)"
      ]
     },
     "execution_count": 16,
     "metadata": {},
     "output_type": "execute_result"
    }
   ],
   "source": [
    "scipy.stats.spearmanr(x,y)"
   ]
  },
  {
   "cell_type": "markdown",
   "id": "b5e1cf07",
   "metadata": {},
   "source": [
    "## Pearson R vs Spearman Rho?\n",
    "\n",
    "- Correlation is the degree to which two variables are linearly related. \n",
    "- Important to remember that correlation doesn't imply causation.\n",
    "- Pearson's R ranges from +1 to -1\n",
    "- Spearman's rank correlation coefficient is a nonparametric measure of rank correlation\n",
    "    - Spearman's rho explains how well two variables can be described using a montonic function"
   ]
  },
  {
   "cell_type": "code",
   "execution_count": 42,
   "id": "ccaf66d9",
   "metadata": {},
   "outputs": [
    {
     "data": {
      "image/png": "[encoded data removed]",
      "text/plain": [
       "<Figure size 640x480 with 1 Axes>"
      ]
     },
     "metadata": {},
     "output_type": "display_data"
    }
   ],
   "source": [
    "# Generating QQ Plot for Carbohydrates (X)\n",
    "import statsmodels.api as sm\n",
    "import matplotlib.pyplot as plt\n",
    "\n",
    "fig = sm.qqplot(x,line='45')\n",
    "plt.show()\n",
    "\n",
    "# figure out how to add titles"
   ]
  },
  {
   "cell_type": "code",
   "execution_count": 45,
   "id": "c0ef92e4",
   "metadata": {},
   "outputs": [
    {
     "data": {
      "image/png": "[encoded data removed]",
      "text/plain": [
       "<Figure size 640x480 with 1 Axes>"
      ]
     },
     "metadata": {},
     "output_type": "display_data"
    }
   ],
   "source": [
    "# we can try normalizing the data more by applying a log function\n",
    "import math\n",
    "import numpy as np\n",
    "\n",
    "fig = sm.qqplot(np.log(x))\n",
    "plt.show()\n"
   ]
  },
  {
   "cell_type": "code",
   "execution_count": 46,
   "id": "66f203de",
   "metadata": {},
   "outputs": [],
   "source": [
    "## QQ line kinda fucked up"
   ]
  },
  {
   "cell_type": "code",
   "execution_count": 58,
   "id": "5be72dd0",
   "metadata": {},
   "outputs": [],
   "source": [
    "# Create model\n",
    "\n",
    "import numpy as np\n",
    "from sklearn.linear_model import LinearRegression\n",
    "\n",
    "model  = LinearRegression()"
   ]
  },
  {
   "cell_type": "code",
   "execution_count": 73,
   "id": "a2f7c518",
   "metadata": {},
   "outputs": [],
   "source": [
    "# convert to array and reshape\n",
    "x = np.array(x)\n",
    "x = (x.reshape(-1,1))"
   ]
  },
  {
   "cell_type": "code",
   "execution_count": 74,
   "id": "f5d4e0db",
   "metadata": {},
   "outputs": [
    {
     "data": {
      "text/plain": [
       "LinearRegression()"
      ]
     },
     "execution_count": 74,
     "metadata": {},
     "output_type": "execute_result"
    }
   ],
   "source": [
    "model.fit(x,y)"
   ]
  },
  {
   "cell_type": "code",
   "execution_count": 75,
   "id": "1d6e3753",
   "metadata": {},
   "outputs": [],
   "source": [
    "# interpreting model"
   ]
  },
  {
   "cell_type": "code",
   "execution_count": 76,
   "id": "b085a909",
   "metadata": {},
   "outputs": [
    {
     "name": "stdout",
     "output_type": "stream",
     "text": [
      "intercept: 67.52544655722316\n"
     ]
    }
   ],
   "source": [
    "print(f\"intercept: {model.intercept_}\")"
   ]
  },
  {
   "cell_type": "code",
   "execution_count": 77,
   "id": "ecf960b0",
   "metadata": {},
   "outputs": [
    {
     "name": "stdout",
     "output_type": "stream",
     "text": [
      "slope: [7.23679254]\n"
     ]
    }
   ],
   "source": [
    "print(f\"slope: {model.coef_}\")"
   ]
  },
  {
   "cell_type": "code",
   "execution_count": 78,
   "id": "341d64b8",
   "metadata": {},
   "outputs": [],
   "source": [
    "# display intercept, slope and r-squared value"
   ]
  },
  {
   "cell_type": "code",
   "execution_count": 79,
   "id": "d585c48e",
   "metadata": {},
   "outputs": [
    {
     "name": "stdout",
     "output_type": "stream",
     "text": [
      "67.52544655722316 [7.23679254] 0.6366486391715738\n"
     ]
    }
   ],
   "source": [
    "print(model.intercept_, model.coef_, model.score(x,y))"
   ]
  },
  {
   "cell_type": "code",
   "execution_count": 82,
   "id": "1252992f",
   "metadata": {},
   "outputs": [],
   "source": [
    "# lets train test split\n",
    "\n",
    "import pandas as pd\n",
    "import numpy as np\n",
    "from sklearn import linear_model\n",
    "from sklearn.model_selection import train_test_split"
   ]
  },
  {
   "cell_type": "code",
   "execution_count": 85,
   "id": "b2e38fa1",
   "metadata": {},
   "outputs": [],
   "source": [
    "x_train, x_test, y_train, y_test = train_test_split(x,y,test_size=.33,random_state=42)"
   ]
  },
  {
   "cell_type": "code",
   "execution_count": 86,
   "id": "4ac4c9a3",
   "metadata": {},
   "outputs": [],
   "source": [
    "reg = linear_model.LinearRegression()"
   ]
  },
  {
   "cell_type": "code",
   "execution_count": 87,
   "id": "f183014c",
   "metadata": {},
   "outputs": [
    {
     "data": {
      "text/plain": [
       "LinearRegression()"
      ]
     },
     "execution_count": 87,
     "metadata": {},
     "output_type": "execute_result"
    }
   ],
   "source": [
    "reg.fit(x_train,y_train)"
   ]
  },
  {
   "cell_type": "code",
   "execution_count": 90,
   "id": "b04a1b03",
   "metadata": {},
   "outputs": [
    {
     "name": "stdout",
     "output_type": "stream",
     "text": [
      "[7.03971243]\n"
     ]
    }
   ],
   "source": [
    "print(reg.coef_)"
   ]
  },
  {
   "cell_type": "code",
   "execution_count": 91,
   "id": "d1742292",
   "metadata": {},
   "outputs": [],
   "source": [
    "y_pred = reg.predict(x_test)"
   ]
  },
  {
   "cell_type": "code",
   "execution_count": 92,
   "id": "62faf2d0",
   "metadata": {},
   "outputs": [
    {
     "data": {
      "text/plain": [
       "array([ 86.0530422 , 118.43571937, 195.87255607, 139.55485665,\n",
       "       106.46820824, 158.5620802 ,  87.46098469, 114.91586315,\n",
       "       125.47543179, 131.81117298, 100.13246706, 157.15413772,\n",
       "       167.00973512, 150.81839653, 167.71370636, 121.25160434,\n",
       "       152.93031026, 115.6198344 , 187.42490116, 188.83284364,\n",
       "       118.43571937, 190.94475737, 169.82562009, 183.2010737 ,\n",
       "       107.87615073, 157.15413772, 157.15413772, 207.8400672 ,\n",
       "       161.37796517, 202.20829725, 169.12164884, 120.5476331 ,\n",
       "       109.28409321,  82.53318599, 112.80394943, 195.16858483,\n",
       "       167.00973512, 165.60179263, 198.68844104, 205.02418222,\n",
       "       147.29854032, 167.00973512, 153.6342815 , 186.72092991,\n",
       "        91.68481214, 149.41045405, 171.93753382, 112.80394943,\n",
       "       127.58734552, 121.95557558, 193.76064234])"
      ]
     },
     "execution_count": 92,
     "metadata": {},
     "output_type": "execute_result"
    }
   ],
   "source": [
    "y_pred"
   ]
  },
  {
   "cell_type": "code",
   "execution_count": 99,
   "id": "ed643935",
   "metadata": {},
   "outputs": [
    {
     "data": {
      "text/plain": [
       "118.43571936752184"
      ]
     },
     "execution_count": 99,
     "metadata": {},
     "output_type": "execute_result"
    }
   ],
   "source": [
    "y_pred[1]"
   ]
  },
  {
   "cell_type": "code",
   "execution_count": 103,
   "id": "22dd8d00",
   "metadata": {},
   "outputs": [
    {
     "data": {
      "text/plain": [
       "numpy.ndarray"
      ]
     },
     "execution_count": 103,
     "metadata": {},
     "output_type": "execute_result"
    }
   ],
   "source": [
    "type(y_pred)"
   ]
  },
  {
   "cell_type": "code",
   "execution_count": 105,
   "id": "998da940",
   "metadata": {},
   "outputs": [],
   "source": [
    "y_test = np.array(y_test)"
   ]
  },
  {
   "cell_type": "code",
   "execution_count": 112,
   "id": "7f58f258",
   "metadata": {},
   "outputs": [
    {
     "data": {
      "text/plain": [
       "118.43571936752184"
      ]
     },
     "execution_count": 112,
     "metadata": {},
     "output_type": "execute_result"
    }
   ],
   "source": [
    "y_pred[1]"
   ]
  },
  {
   "cell_type": "code",
   "execution_count": 113,
   "id": "85bb0336",
   "metadata": {},
   "outputs": [
    {
     "data": {
      "text/plain": [
       "110"
      ]
     },
     "execution_count": 113,
     "metadata": {},
     "output_type": "execute_result"
    }
   ],
   "source": [
    "y_test[1]"
   ]
  },
  {
   "cell_type": "code",
   "execution_count": 120,
   "id": "b6c918fb",
   "metadata": {},
   "outputs": [],
   "source": [
    "import math\n",
    "\n",
    "residuals = []\n",
    "for i in range(len(y_pred)):\n",
    "    residual = abs(y_pred[i] - y_test[i])\n",
    "    residuals.append(residual)\n",
    "    "
   ]
  },
  {
   "cell_type": "code",
   "execution_count": 125,
   "id": "5803d389",
   "metadata": {},
   "outputs": [],
   "source": [
    "import math\n",
    "import statistics\n",
    "def rmse(param):\n",
    "    val = 0\n",
    "    for each in param:\n",
    "        val += each**2\n",
    "    mean = val/len(param)\n",
    "    return math.sqrt(mean)"
   ]
  },
  {
   "cell_type": "code",
   "execution_count": 131,
   "id": "a685ad82",
   "metadata": {},
   "outputs": [
    {
     "data": {
      "text/plain": [
       "21.766470475241665"
      ]
     },
     "execution_count": 131,
     "metadata": {},
     "output_type": "execute_result"
    }
   ],
   "source": [
    "rmse(residuals)"
   ]
  },
  {
   "cell_type": "code",
   "execution_count": 127,
   "id": "17b4e482",
   "metadata": {},
   "outputs": [],
   "source": [
    "from sklearn.metrics import mean_squared_error"
   ]
  },
  {
   "cell_type": "code",
   "execution_count": 129,
   "id": "3494b2d9",
   "metadata": {},
   "outputs": [
    {
     "name": "stdout",
     "output_type": "stream",
     "text": [
      "473.7792369495672\n"
     ]
    }
   ],
   "source": [
    "print(mean_squared_error(y_test,y_pred))"
   ]
  },
  {
   "cell_type": "code",
   "execution_count": 137,
   "id": "32a570e9",
   "metadata": {},
   "outputs": [
    {
     "data": {
      "text/plain": [
       "[<matplotlib.lines.Line2D at 0x25046651d00>]"
      ]
     },
     "execution_count": 137,
     "metadata": {},
     "output_type": "execute_result"
    },
    {
     "data": {
      "image/png": "[encoded data removed]",
      "text/plain": [
       "<Figure size 640x480 with 1 Axes>"
      ]
     },
     "metadata": {},
     "output_type": "display_data"
    }
   ],
   "source": [
    "# Get an idea what data looks like\n",
    "import matplotlib.pyplot as plt\n",
    "x = df['Carbohydrates']\n",
    "y = df['Calories']\n",
    "plt.scatter(x,y)\n",
    "plt.xlabel('Carbohydrates')\n",
    "plt.ylabel('Calories')\n",
    "\n",
    "\n",
    "line = (reg.coef_ * x) + reg.intercept_\n",
    "plt.plot(x,line, color = 'red')"
   ]
  },
  {
   "cell_type": "code",
   "execution_count": null,
   "id": "9a2639c0",
   "metadata": {},
   "outputs": [],
   "source": []
  }
 ],
 "metadata": {
  "kernelspec": {
   "display_name": "Python 3 (ipykernel)",
   "language": "python",
   "name": "python3"
  },
  "language_info": {
   "codemirror_mode": {
    "name": "ipython",
    "version": 3
   },
   "file_extension": ".py",
   "mimetype": "text/x-python",
   "name": "python",
   "nbconvert_exporter": "python",
   "pygments_lexer": "ipython3",
   "version": "3.8.8"
  }
 },
 "nbformat": 4,
 "nbformat_minor": 5
}
