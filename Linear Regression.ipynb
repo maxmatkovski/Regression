{
 "cells": [
  {
   "cell_type": "code",
   "execution_count": 11,
   "id": "d61b2b04",
   "metadata": {},
   "outputs": [],
   "source": [
    "# read in file\n",
    "\n",
    "import pandas as pd\n",
    "df = pd.read_csv('Data/beer.csv')"
   ]
  },
  {
   "cell_type": "code",
   "execution_count": 12,
   "id": "38362b7d",
   "metadata": {},
   "outputs": [
    {
     "data": {
      "text/html": [
       "<div>\n",
       "<style scoped>\n",
       "    .dataframe tbody tr th:only-of-type {\n",
       "        vertical-align: middle;\n",
       "    }\n",
       "\n",
       "    .dataframe tbody tr th {\n",
       "        vertical-align: top;\n",
       "    }\n",
       "\n",
       "    .dataframe thead th {\n",
       "        text-align: right;\n",
       "    }\n",
       "</style>\n",
       "<table border=\"1\" class=\"dataframe\">\n",
       "  <thead>\n",
       "    <tr style=\"text-align: right;\">\n",
       "      <th></th>\n",
       "      <th>Brand</th>\n",
       "      <th>Brewery</th>\n",
       "      <th>Calories</th>\n",
       "      <th>Carbohydrates</th>\n",
       "    </tr>\n",
       "  </thead>\n",
       "  <tbody>\n",
       "    <tr>\n",
       "      <th>0</th>\n",
       "      <td>American Amber Lager</td>\n",
       "      <td>Straub Brewery</td>\n",
       "      <td>136</td>\n",
       "      <td>10.5</td>\n",
       "    </tr>\n",
       "    <tr>\n",
       "      <th>1</th>\n",
       "      <td>American Lager</td>\n",
       "      <td>Straub Brewery</td>\n",
       "      <td>132</td>\n",
       "      <td>10.5</td>\n",
       "    </tr>\n",
       "    <tr>\n",
       "      <th>2</th>\n",
       "      <td>American Light</td>\n",
       "      <td>Straub Brewery</td>\n",
       "      <td>96</td>\n",
       "      <td>7.6</td>\n",
       "    </tr>\n",
       "    <tr>\n",
       "      <th>3</th>\n",
       "      <td>Anchor Steam</td>\n",
       "      <td>Anchor</td>\n",
       "      <td>153</td>\n",
       "      <td>16.0</td>\n",
       "    </tr>\n",
       "    <tr>\n",
       "      <th>4</th>\n",
       "      <td>Anheuser Busch Natural Light</td>\n",
       "      <td>Anheuser Busch</td>\n",
       "      <td>95</td>\n",
       "      <td>3.2</td>\n",
       "    </tr>\n",
       "    <tr>\n",
       "      <th>...</th>\n",
       "      <td>...</td>\n",
       "      <td>...</td>\n",
       "      <td>...</td>\n",
       "      <td>...</td>\n",
       "    </tr>\n",
       "    <tr>\n",
       "      <th>148</th>\n",
       "      <td>Yuengling Ale</td>\n",
       "      <td>D.G. Yuengilng</td>\n",
       "      <td>145</td>\n",
       "      <td>10.0</td>\n",
       "    </tr>\n",
       "    <tr>\n",
       "      <th>149</th>\n",
       "      <td>Yuengling Porter</td>\n",
       "      <td>D.G. Yuengilng</td>\n",
       "      <td>150</td>\n",
       "      <td>14.0</td>\n",
       "    </tr>\n",
       "    <tr>\n",
       "      <th>150</th>\n",
       "      <td>Yuengling Premium Beer</td>\n",
       "      <td>D.G. Yuengling</td>\n",
       "      <td>135</td>\n",
       "      <td>12.0</td>\n",
       "    </tr>\n",
       "    <tr>\n",
       "      <th>151</th>\n",
       "      <td>Yuengling Light</td>\n",
       "      <td>D.G. Yuengling</td>\n",
       "      <td>98</td>\n",
       "      <td>6.6</td>\n",
       "    </tr>\n",
       "    <tr>\n",
       "      <th>152</th>\n",
       "      <td>Yuengling Lager</td>\n",
       "      <td>D.G. Yuengling</td>\n",
       "      <td>135</td>\n",
       "      <td>12.0</td>\n",
       "    </tr>\n",
       "  </tbody>\n",
       "</table>\n",
       "<p>153 rows × 4 columns</p>\n",
       "</div>"
      ],
      "text/plain": [
       "                             Brand          Brewery  Calories  Carbohydrates\n",
       "0             American Amber Lager  Straub Brewery        136           10.5\n",
       "1                   American Lager   Straub Brewery       132           10.5\n",
       "2                   American Light   Straub Brewery        96            7.6\n",
       "3                     Anchor Steam          Anchor        153           16.0\n",
       "4    Anheuser Busch Natural Light    Anheuser Busch        95            3.2\n",
       "..                             ...              ...       ...            ...\n",
       "148                  Yuengling Ale   D.G. Yuengilng       145           10.0\n",
       "149               Yuengling Porter   D.G. Yuengilng       150           14.0\n",
       "150         Yuengling Premium Beer   D.G. Yuengling       135           12.0\n",
       "151                Yuengling Light   D.G. Yuengling        98            6.6\n",
       "152                Yuengling Lager   D.G. Yuengling       135           12.0\n",
       "\n",
       "[153 rows x 4 columns]"
      ]
     },
     "execution_count": 12,
     "metadata": {},
     "output_type": "execute_result"
    }
   ],
   "source": [
    "df"
   ]
  },
  {
   "cell_type": "code",
   "execution_count": 13,
   "id": "74ce278d",
   "metadata": {},
   "outputs": [
    {
     "data": {
      "text/html": [
       "<div>\n",
       "<style scoped>\n",
       "    .dataframe tbody tr th:only-of-type {\n",
       "        vertical-align: middle;\n",
       "    }\n",
       "\n",
       "    .dataframe tbody tr th {\n",
       "        vertical-align: top;\n",
       "    }\n",
       "\n",
       "    .dataframe thead th {\n",
       "        text-align: right;\n",
       "    }\n",
       "</style>\n",
       "<table border=\"1\" class=\"dataframe\">\n",
       "  <thead>\n",
       "    <tr style=\"text-align: right;\">\n",
       "      <th></th>\n",
       "      <th>Calories</th>\n",
       "      <th>Carbohydrates</th>\n",
       "    </tr>\n",
       "  </thead>\n",
       "  <tbody>\n",
       "    <tr>\n",
       "      <th>count</th>\n",
       "      <td>153.000000</td>\n",
       "      <td>153.000000</td>\n",
       "    </tr>\n",
       "    <tr>\n",
       "      <th>mean</th>\n",
       "      <td>154.078431</td>\n",
       "      <td>11.960131</td>\n",
       "    </tr>\n",
       "    <tr>\n",
       "      <th>std</th>\n",
       "      <td>44.492538</td>\n",
       "      <td>4.905587</td>\n",
       "    </tr>\n",
       "    <tr>\n",
       "      <th>min</th>\n",
       "      <td>55.000000</td>\n",
       "      <td>1.900000</td>\n",
       "    </tr>\n",
       "    <tr>\n",
       "      <th>25%</th>\n",
       "      <td>129.000000</td>\n",
       "      <td>8.600000</td>\n",
       "    </tr>\n",
       "    <tr>\n",
       "      <th>50%</th>\n",
       "      <td>150.000000</td>\n",
       "      <td>12.000000</td>\n",
       "    </tr>\n",
       "    <tr>\n",
       "      <th>75%</th>\n",
       "      <td>166.000000</td>\n",
       "      <td>14.300000</td>\n",
       "    </tr>\n",
       "    <tr>\n",
       "      <th>max</th>\n",
       "      <td>330.000000</td>\n",
       "      <td>32.100000</td>\n",
       "    </tr>\n",
       "  </tbody>\n",
       "</table>\n",
       "</div>"
      ],
      "text/plain": [
       "         Calories  Carbohydrates\n",
       "count  153.000000     153.000000\n",
       "mean   154.078431      11.960131\n",
       "std     44.492538       4.905587\n",
       "min     55.000000       1.900000\n",
       "25%    129.000000       8.600000\n",
       "50%    150.000000      12.000000\n",
       "75%    166.000000      14.300000\n",
       "max    330.000000      32.100000"
      ]
     },
     "execution_count": 13,
     "metadata": {},
     "output_type": "execute_result"
    }
   ],
   "source": [
    "df.describe()"
   ]
  },
  {
   "cell_type": "code",
   "execution_count": 14,
   "id": "b3cd9978",
   "metadata": {},
   "outputs": [
    {
     "data": {
      "text/plain": [
       "Text(0, 0.5, 'Calories')"
      ]
     },
     "execution_count": 14,
     "metadata": {},
     "output_type": "execute_result"
    },
    {
     "data": {
      "image/png": "[encoded data removed]",
      "text/plain": [
       "<Figure size 640x480 with 1 Axes>"
      ]
     },
     "metadata": {},
     "output_type": "display_data"
    }
   ],
   "source": [
    "# Get an idea what data looks like\n",
    "import matplotlib.pyplot as plt\n",
    "x = df['Carbohydrates']\n",
    "y = df['Calories']\n",
    "plt.scatter(x,y)\n",
    "plt.xlabel('Carbohydrates')\n",
    "plt.ylabel('Calories')"
   ]
  },
  {
   "cell_type": "code",
   "execution_count": 15,
   "id": "64577777",
   "metadata": {},
   "outputs": [
    {
     "data": {
      "text/plain": [
       "(0.7979026501845783, 5.162380076478407e-35)"
      ]
     },
     "execution_count": 15,
     "metadata": {},
     "output_type": "execute_result"
    }
   ],
   "source": [
    "# Correlation test\n",
    "import scipy.stats\n",
    "scipy.stats.pearsonr(x,y)"
   ]
  },
  {
   "cell_type": "code",
   "execution_count": 16,
   "id": "fd6965c6",
   "metadata": {},
   "outputs": [
    {
     "data": {
      "text/plain": [
       "SpearmanrResult(correlation=0.8202031342300837, pvalue=1.8687017951903627e-38)"
      ]
     },
     "execution_count": 16,
     "metadata": {},
     "output_type": "execute_result"
    }
   ],
   "source": [
    "scipy.stats.spearmanr(x,y)"
   ]
  },
  {
   "cell_type": "markdown",
   "id": "5ae54070",
   "metadata": {},
   "source": [
    "## Pearson R vs Spearman Rho?\n",
    "\n",
    "- Correlation is the degree to which two variables are linearly related. \n",
    "- Important to remember that correlation doesn't imply causation.\n",
    "- Pearson's R ranges from +1 to -1\n",
    "- Spearman's rank correlation coefficient is a nonparametric measure of rank correlation\n",
    "    - Spearman's rho explains how well two variables can be described using a montonic function"
   ]
  },
  {
   "cell_type": "code",
   "execution_count": null,
   "id": "34a21deb",
   "metadata": {},
   "outputs": [],
   "source": []
  }
 ],
 "metadata": {
  "kernelspec": {
   "display_name": "Python 3 (ipykernel)",
   "language": "python",
   "name": "python3"
  },
  "language_info": {
   "codemirror_mode": {
    "name": "ipython",
    "version": 3
   },
   "file_extension": ".py",
   "mimetype": "text/x-python",
   "name": "python",
   "nbconvert_exporter": "python",
   "pygments_lexer": "ipython3",
   "version": "3.8.8"
  }
 },
 "nbformat": 4,
 "nbformat_minor": 5
}
