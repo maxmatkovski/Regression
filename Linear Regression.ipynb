{
 "cells": [
  {
   "cell_type": "code",
   "execution_count": 139,
   "id": "d61b2b04",
   "metadata": {},
   "outputs": [
    {
     "data": {
      "text/html": [
       "<div>\n",
       "<style scoped>\n",
       "    .dataframe tbody tr th:only-of-type {\n",
       "        vertical-align: middle;\n",
       "    }\n",
       "\n",
       "    .dataframe tbody tr th {\n",
       "        vertical-align: top;\n",
       "    }\n",
       "\n",
       "    .dataframe thead th {\n",
       "        text-align: right;\n",
       "    }\n",
       "</style>\n",
       "<table border=\"1\" class=\"dataframe\">\n",
       "  <thead>\n",
       "    <tr style=\"text-align: right;\">\n",
       "      <th></th>\n",
       "      <th>Brand</th>\n",
       "      <th>Brewery</th>\n",
       "      <th>Calories</th>\n",
       "      <th>Carbohydrates</th>\n",
       "    </tr>\n",
       "  </thead>\n",
       "  <tbody>\n",
       "    <tr>\n",
       "      <th>0</th>\n",
       "      <td>American Amber Lager</td>\n",
       "      <td>Straub Brewery</td>\n",
       "      <td>136</td>\n",
       "      <td>10.5</td>\n",
       "    </tr>\n",
       "    <tr>\n",
       "      <th>1</th>\n",
       "      <td>American Lager</td>\n",
       "      <td>Straub Brewery</td>\n",
       "      <td>132</td>\n",
       "      <td>10.5</td>\n",
       "    </tr>\n",
       "    <tr>\n",
       "      <th>2</th>\n",
       "      <td>American Light</td>\n",
       "      <td>Straub Brewery</td>\n",
       "      <td>96</td>\n",
       "      <td>7.6</td>\n",
       "    </tr>\n",
       "    <tr>\n",
       "      <th>3</th>\n",
       "      <td>Anchor Steam</td>\n",
       "      <td>Anchor</td>\n",
       "      <td>153</td>\n",
       "      <td>16.0</td>\n",
       "    </tr>\n",
       "    <tr>\n",
       "      <th>4</th>\n",
       "      <td>Anheuser Busch Natural Light</td>\n",
       "      <td>Anheuser Busch</td>\n",
       "      <td>95</td>\n",
       "      <td>3.2</td>\n",
       "    </tr>\n",
       "    <tr>\n",
       "      <th>...</th>\n",
       "      <td>...</td>\n",
       "      <td>...</td>\n",
       "      <td>...</td>\n",
       "      <td>...</td>\n",
       "    </tr>\n",
       "    <tr>\n",
       "      <th>148</th>\n",
       "      <td>Yuengling Ale</td>\n",
       "      <td>D.G. Yuengilng</td>\n",
       "      <td>145</td>\n",
       "      <td>10.0</td>\n",
       "    </tr>\n",
       "    <tr>\n",
       "      <th>149</th>\n",
       "      <td>Yuengling Porter</td>\n",
       "      <td>D.G. Yuengilng</td>\n",
       "      <td>150</td>\n",
       "      <td>14.0</td>\n",
       "    </tr>\n",
       "    <tr>\n",
       "      <th>150</th>\n",
       "      <td>Yuengling Premium Beer</td>\n",
       "      <td>D.G. Yuengling</td>\n",
       "      <td>135</td>\n",
       "      <td>12.0</td>\n",
       "    </tr>\n",
       "    <tr>\n",
       "      <th>151</th>\n",
       "      <td>Yuengling Light</td>\n",
       "      <td>D.G. Yuengling</td>\n",
       "      <td>98</td>\n",
       "      <td>6.6</td>\n",
       "    </tr>\n",
       "    <tr>\n",
       "      <th>152</th>\n",
       "      <td>Yuengling Lager</td>\n",
       "      <td>D.G. Yuengling</td>\n",
       "      <td>135</td>\n",
       "      <td>12.0</td>\n",
       "    </tr>\n",
       "  </tbody>\n",
       "</table>\n",
       "<p>153 rows × 4 columns</p>\n",
       "</div>"
      ],
      "text/plain": [
       "                             Brand          Brewery  Calories  Carbohydrates\n",
       "0             American Amber Lager  Straub Brewery        136           10.5\n",
       "1                   American Lager   Straub Brewery       132           10.5\n",
       "2                   American Light   Straub Brewery        96            7.6\n",
       "3                     Anchor Steam          Anchor        153           16.0\n",
       "4    Anheuser Busch Natural Light    Anheuser Busch        95            3.2\n",
       "..                             ...              ...       ...            ...\n",
       "148                  Yuengling Ale   D.G. Yuengilng       145           10.0\n",
       "149               Yuengling Porter   D.G. Yuengilng       150           14.0\n",
       "150         Yuengling Premium Beer   D.G. Yuengling       135           12.0\n",
       "151                Yuengling Light   D.G. Yuengling        98            6.6\n",
       "152                Yuengling Lager   D.G. Yuengling       135           12.0\n",
       "\n",
       "[153 rows x 4 columns]"
      ]
     },
     "execution_count": 139,
     "metadata": {},
     "output_type": "execute_result"
    }
   ],
   "source": [
    "# read in file\n",
    "\n",
    "import pandas as pd\n",
    "df = pd.read_csv('Data/beer.csv')\n",
    "df"
   ]
  },
  {
   "cell_type": "code",
   "execution_count": 14,
   "id": "71060809",
   "metadata": {},
   "outputs": [
    {
     "data": {
      "text/plain": [
       "Text(0, 0.5, 'Calories')"
      ]
     },
     "execution_count": 14,
     "metadata": {},
     "output_type": "execute_result"
    },
    {
     "data": {
      "image/png": "[encoded data removed]",
      "text/plain": [
       "<Figure size 640x480 with 1 Axes>"
      ]
     },
     "metadata": {},
     "output_type": "display_data"
    }
   ],
   "source": [
    "# Get an idea what data looks like\n",
    "import matplotlib.pyplot as plt\n",
    "x = df['Carbohydrates']\n",
    "y = df['Calories']\n",
    "plt.scatter(x,y)\n",
    "plt.xlabel('Carbohydrates')\n",
    "plt.ylabel('Calories')"
   ]
  },
  {
   "cell_type": "code",
   "execution_count": 15,
   "id": "2aa0132d",
   "metadata": {},
   "outputs": [
    {
     "data": {
      "text/plain": [
       "(0.7979026501845783, 5.162380076478407e-35)"
      ]
     },
     "execution_count": 15,
     "metadata": {},
     "output_type": "execute_result"
    }
   ],
   "source": [
    "# Correlation test\n",
    "import scipy.stats\n",
    "scipy.stats.pearsonr(x,y)"
   ]
  },
  {
   "cell_type": "code",
   "execution_count": 16,
   "id": "19054183",
   "metadata": {},
   "outputs": [
    {
     "data": {
      "text/plain": [
       "SpearmanrResult(correlation=0.8202031342300837, pvalue=1.8687017951903627e-38)"
      ]
     },
     "execution_count": 16,
     "metadata": {},
     "output_type": "execute_result"
    }
   ],
   "source": [
    "scipy.stats.spearmanr(x,y)"
   ]
  },
  {
   "cell_type": "code",
   "execution_count": 140,
   "id": "8415f821",
   "metadata": {},
   "outputs": [
    {
     "data": {
      "image/png": "[encoded data removed]",
      "text/plain": [
       "<Figure size 640x480 with 1 Axes>"
      ]
     },
     "metadata": {},
     "output_type": "display_data"
    }
   ],
   "source": [
    "# Generating QQ Plot for Carbohydrates (X)\n",
    "import statsmodels.api as sm\n",
    "import matplotlib.pyplot as plt\n",
    "\n",
    "fig = sm.qqplot(x)\n",
    "plt.show()\n",
    "\n",
    "# figure out how to add titles"
   ]
  },
  {
   "cell_type": "code",
   "execution_count": 45,
   "id": "869b77d4",
   "metadata": {},
   "outputs": [
    {
     "data": {
      "image/png": "[encoded data removed]",
      "text/plain": [
       "<Figure size 640x480 with 1 Axes>"
      ]
     },
     "metadata": {},
     "output_type": "display_data"
    }
   ],
   "source": [
    "# we can try normalizing the data more by applying a log function\n",
    "import math\n",
    "import numpy as np\n",
    "\n",
    "fig = sm.qqplot(np.log(x))\n",
    "plt.show()\n"
   ]
  },
  {
   "cell_type": "code",
   "execution_count": 141,
   "id": "c94406cb",
   "metadata": {},
   "outputs": [],
   "source": [
    "## QQ line kinda fucked up\n",
    "## how to assess QQ plot"
   ]
  },
  {
   "cell_type": "markdown",
   "id": "98c1f7dc",
   "metadata": {},
   "source": [
    "#### Train Test Split"
   ]
  },
  {
   "cell_type": "code",
   "execution_count": 144,
   "id": "78d92ac2",
   "metadata": {},
   "outputs": [],
   "source": [
    "# lets train test split\n",
    "\n",
    "import pandas as pd\n",
    "import numpy as np\n",
    "from sklearn import linear_model\n",
    "from sklearn.model_selection import train_test_split"
   ]
  },
  {
   "cell_type": "code",
   "execution_count": 154,
   "id": "253c485d",
   "metadata": {},
   "outputs": [],
   "source": [
    "x = np.array(x).reshape(-1,1)"
   ]
  },
  {
   "cell_type": "code",
   "execution_count": 155,
   "id": "069f958b",
   "metadata": {},
   "outputs": [],
   "source": [
    "x_train, x_test, y_train, y_test = train_test_split(x,y,test_size=.33,random_state=42)"
   ]
  },
  {
   "cell_type": "markdown",
   "id": "7bfcd9d8",
   "metadata": {},
   "source": [
    "#### Create Model and Fit"
   ]
  },
  {
   "cell_type": "code",
   "execution_count": 162,
   "id": "9f1bc273",
   "metadata": {},
   "outputs": [],
   "source": [
    "reg = linear_model.LinearRegression()"
   ]
  },
  {
   "cell_type": "code",
   "execution_count": 163,
   "id": "e3d77067",
   "metadata": {},
   "outputs": [
    {
     "data": {
      "text/plain": [
       "LinearRegression()"
      ]
     },
     "execution_count": 163,
     "metadata": {},
     "output_type": "execute_result"
    }
   ],
   "source": [
    "reg.fit(x_train,y_train)"
   ]
  },
  {
   "cell_type": "code",
   "execution_count": 164,
   "id": "5eee048f",
   "metadata": {},
   "outputs": [
    {
     "name": "stdout",
     "output_type": "stream",
     "text": [
      "[7.03971243]\n"
     ]
    }
   ],
   "source": [
    "print(reg.coef_)"
   ]
  },
  {
   "cell_type": "code",
   "execution_count": 159,
   "id": "b6e6c3e7",
   "metadata": {},
   "outputs": [],
   "source": [
    "y_pred = reg.predict(x_test)"
   ]
  },
  {
   "cell_type": "code",
   "execution_count": 160,
   "id": "d00e22a4",
   "metadata": {},
   "outputs": [
    {
     "data": {
      "text/plain": [
       "array([ 86.0530422 , 118.43571937, 195.87255607, 139.55485665,\n",
       "       106.46820824, 158.5620802 ,  87.46098469, 114.91586315,\n",
       "       125.47543179, 131.81117298, 100.13246706, 157.15413772,\n",
       "       167.00973512, 150.81839653, 167.71370636, 121.25160434,\n",
       "       152.93031026, 115.6198344 , 187.42490116, 188.83284364,\n",
       "       118.43571937, 190.94475737, 169.82562009, 183.2010737 ,\n",
       "       107.87615073, 157.15413772, 157.15413772, 207.8400672 ,\n",
       "       161.37796517, 202.20829725, 169.12164884, 120.5476331 ,\n",
       "       109.28409321,  82.53318599, 112.80394943, 195.16858483,\n",
       "       167.00973512, 165.60179263, 198.68844104, 205.02418222,\n",
       "       147.29854032, 167.00973512, 153.6342815 , 186.72092991,\n",
       "        91.68481214, 149.41045405, 171.93753382, 112.80394943,\n",
       "       127.58734552, 121.95557558, 193.76064234])"
      ]
     },
     "execution_count": 160,
     "metadata": {},
     "output_type": "execute_result"
    }
   ],
   "source": [
    "y_pred"
   ]
  },
  {
   "cell_type": "code",
   "execution_count": 105,
   "id": "59e53de6",
   "metadata": {},
   "outputs": [],
   "source": [
    "y_test = np.array(y_test)"
   ]
  },
  {
   "cell_type": "code",
   "execution_count": 112,
   "id": "58c5473d",
   "metadata": {},
   "outputs": [
    {
     "data": {
      "text/plain": [
       "118.43571936752184"
      ]
     },
     "execution_count": 112,
     "metadata": {},
     "output_type": "execute_result"
    }
   ],
   "source": [
    "y_pred[1]"
   ]
  },
  {
   "cell_type": "code",
   "execution_count": 113,
   "id": "e1f1a0cc",
   "metadata": {},
   "outputs": [
    {
     "data": {
      "text/plain": [
       "110"
      ]
     },
     "execution_count": 113,
     "metadata": {},
     "output_type": "execute_result"
    }
   ],
   "source": [
    "y_test[1]"
   ]
  },
  {
   "cell_type": "code",
   "execution_count": 120,
   "id": "6addaac1",
   "metadata": {},
   "outputs": [],
   "source": [
    "import math\n",
    "\n",
    "residuals = []\n",
    "for i in range(len(y_pred)):\n",
    "    residual = abs(y_pred[i] - y_test[i])\n",
    "    residuals.append(residual)\n",
    "    "
   ]
  },
  {
   "cell_type": "code",
   "execution_count": 168,
   "id": "de94c29c",
   "metadata": {},
   "outputs": [],
   "source": [
    "import math\n",
    "import statistics\n",
    "def rmse(param):\n",
    "    \n",
    "    val = 0\n",
    "    for each in residuals:\n",
    "        val += each**2\n",
    "    mean = val/len(residuals)\n",
    "    return math.sqrt(mean)"
   ]
  },
  {
   "cell_type": "code",
   "execution_count": 169,
   "id": "ea37f982",
   "metadata": {},
   "outputs": [
    {
     "data": {
      "text/plain": [
       "21.766470475241665"
      ]
     },
     "execution_count": 169,
     "metadata": {},
     "output_type": "execute_result"
    }
   ],
   "source": [
    "rmse(residuals)"
   ]
  },
  {
   "cell_type": "code",
   "execution_count": 172,
   "id": "c38de485",
   "metadata": {},
   "outputs": [
    {
     "data": {
      "text/plain": [
       "473.7792369495671"
      ]
     },
     "execution_count": 172,
     "metadata": {},
     "output_type": "execute_result"
    }
   ],
   "source": [
    "rmse(residuals) ** 2"
   ]
  },
  {
   "cell_type": "code",
   "execution_count": 173,
   "id": "fa029f9b",
   "metadata": {},
   "outputs": [],
   "source": [
    "from sklearn.metrics import mean_squared_error"
   ]
  },
  {
   "cell_type": "code",
   "execution_count": 171,
   "id": "59fb1eaa",
   "metadata": {},
   "outputs": [
    {
     "name": "stdout",
     "output_type": "stream",
     "text": [
      "473.7792369495672\n"
     ]
    }
   ],
   "source": [
    "print(mean_squared_error(y_test,y_pred))"
   ]
  },
  {
   "cell_type": "code",
   "execution_count": 137,
   "id": "e5e052cf",
   "metadata": {},
   "outputs": [
    {
     "data": {
      "text/plain": [
       "[<matplotlib.lines.Line2D at 0x25046651d00>]"
      ]
     },
     "execution_count": 137,
     "metadata": {},
     "output_type": "execute_result"
    },
    {
     "data": {
      "image/png": "[encoded data removed]",
      "text/plain": [
       "<Figure size 640x480 with 1 Axes>"
      ]
     },
     "metadata": {},
     "output_type": "display_data"
    }
   ],
   "source": [
    "# Get an idea what data looks like\n",
    "import matplotlib.pyplot as plt\n",
    "x = df['Carbohydrates']\n",
    "y = df['Calories']\n",
    "plt.scatter(x,y)\n",
    "plt.xlabel('Carbohydrates')\n",
    "plt.ylabel('Calories')\n",
    "\n",
    "\n",
    "line = (reg.coef_ * x) + reg.intercept_\n",
    "plt.plot(x,line, color = 'red')"
   ]
  },
  {
   "cell_type": "code",
   "execution_count": null,
   "id": "1d9ae696",
   "metadata": {},
   "outputs": [],
   "source": []
  }
 ],
 "metadata": {
  "kernelspec": {
   "display_name": "Python 3 (ipykernel)",
   "language": "python",
   "name": "python3"
  },
  "language_info": {
   "codemirror_mode": {
    "name": "ipython",
    "version": 3
   },
   "file_extension": ".py",
   "mimetype": "text/x-python",
   "name": "python",
   "nbconvert_exporter": "python",
   "pygments_lexer": "ipython3",
   "version": "3.8.8"
  }
 },
 "nbformat": 4,
 "nbformat_minor": 5
}
